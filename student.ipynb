{
 "cells": [
  {
   "cell_type": "markdown",
   "metadata": {},
   "source": [
    "# Final Project Submission\n",
    "\n",
    "Please fill out:\n",
    "* Student name: MARK KAMAU GITANGU\n",
    "* Student pace:part time\n",
    "* Scheduled project review date/time:05/11/2023\n",
    "* Instructor name: \n",
    "* Blog post URL:\n"
   ]
  },
  {
   "cell_type": "markdown",
   "metadata": {},
   "source": [
    "BOX OFFICE ANALYSIS FOR SUCCESSFUL VENTURES TO MOVIE PRODUCTION"
   ]
  },
  {
   "cell_type": "markdown",
   "metadata": {},
   "source": [
    "AUTHOR:MARK KAMAU GITANGU"
   ]
  },
  {
   "cell_type": "markdown",
   "metadata": {},
   "source": [
    "PROJECT OVERVIEW\n",
    "The Project is aimed to help Microsoft with strategies to creating a studio for original video content production similar to other big companies. Their aim is to create a movie studio that will be able to compete with the other companies. There are available records of the best films in box office and the project aims to use this data to do an analysis of what would be the best course of action for Microsoft since it lacks expertise in the field of movie production. Microsoft needs to identify key success factors, such as genre, storyline, and production techniques, that contribute to the success of these movies. The data used comes from TheMovieDB and The Numbers which show data on genre preferences, budgets, gross revenues, release dates and movie titles available in studios. This data has been cleaned and transformed in order to produce visualizations to determine success factors and other factors that would help advice Microsoft. The methods used are majorly the removal of duplicates and irrelevant data from our main data set and the transformation through ranking using different columns to determine reasonable results based on a particular order. This also helped to remove rows of data that would otherwise burden our analysis due to their size. Based on the observations you have provided, it is seen that key success factors for movies are not limited to genres, storyline, and release date. For example, it is seen that recent releases tend to have higher grossing returns than older releases. In order to produce successful films that will appeal to audiences and generate revenue, it is important to consider a variety of factors, as well as the budget of the film. Movies with high budgets may not necessarily be successful, and vice versa. It is also important to consider the target audience and ensure that the film appeals to them. Finally, it is important to ensure that the film has a strong storyline and engaging characters."
   ]
  },
  {
   "cell_type": "markdown",
   "metadata": {},
   "source": [
    "BUSINESS UNDERSTANDING\n",
    "This section discusses the business problems and questions associated with the project. The company wants to create successful movies that can compete in the current box office market, it thus needs to identify and understand the critical elements that contribute to the success of current box office hits and how to implement those elements in its own movies to ensure success in the movie industry. This section is to handle the business perspective of the project. What are the key problems and questions to consider and their importance for the business?\n",
    "\n",
    "The pain points of Microsoft should revolve around the lack of experience in the creation of movies and their understanding of the film industry. Another issue would be in trying to develop strategies for the successful production of movies that will appeal to the audience and generate adequate revenue. This would necessitate the exploration and analysis of the data to determine highest grossing movies in recent years and the common genres of them. Some of the questions to be asked are:\n",
    "\n",
    "1.Which are the key success factors e.g genres and storyline?\n",
    "2.What types of movies have been top rated and successful in recent years?\n",
    "3.What are the top grossing films in recent years and what genres do they fall under?\n",
    "4.Are there any patterns and trends in terms of themes and genres?\n",
    "5.What strategy can produce successful films that will appeal to audiences and generate revenue?\n",
    "\n",
    "These questions are important from a business perspective because they provide insights that can inform decision-making around what types of films to produce, and how to market those films effectively. By understanding what has worked in the past, Microsoft's movie studio can increase their chances of creating successful films that generate revenue and appeal to audiences."
   ]
  },
  {
   "cell_type": "markdown",
   "metadata": {},
   "source": [
    "DATA UNDERSTANDING\n",
    "This section is for the purpose of describing our data. The data is collected from popular sites used to analyse various aspects of movie production. These sites include Box Office Mojo, IMDB, Rotten Tomatoes, TheMovieDB, and The NUmbers. They are used to track box office revenue margins, provide information about the films and their cast as well as to provide review from critics about the movies. This project will use dta from TheNovieDB and, The Numbers. For the analysis the data will be used from two of such sources that give data on the popularity and profitability of such movies.\n",
    "\n",
    "IMDB and The Numbers data can be used to identify trends and patterns in the movie industry. There are factors such as budget, performance, genres and reception/popularity to consider analyzing. The Numbers data can provide insights into the marketing strategies used for successful films, such as the distribution channels, release dates, and promotional campaigns. There can be opportunities to take advantage of in the data such as dates that have no diversity of the genres that are in demand but not produced. The data will help analyze feasibility and profitability of the movie industry and identify ideas that would have the biggest impact. In the data we will focus on factors such as budget, production timelines and gross margins. The next step would be to use these analyses to recommend insights and ideas to Microsoft for strategies."
   ]
  },
  {
   "cell_type": "markdown",
   "metadata": {},
   "source": [
    "DATA ANALYSIS"
   ]
  },
  {
   "cell_type": "markdown",
   "metadata": {},
   "source": [
    "DATA PREPARATION\n",
    "\n",
    "For analysis, I have used libraries that use python language as the base such as pandas, matplotlib, seaborn and even numpy. I will use these to clean, format and transform our data to ensure accuracy and consistency of data. These libraries will help to do cleaning, transformation, analysis and enable visualization of the data. This is necessary so that any errors, inaccuracies and inconsistencies can be identified and corrected. This prevents incorrect analysis from being carried out. The methods also improve accuracy of the analysis and help in the answering of the questions available in a number of ways."
   ]
  },
  {
   "cell_type": "code",
   "execution_count": 125,
   "metadata": {},
   "outputs": [],
   "source": [
    "# Importing the necessary standard library packages\n",
    "import pandas as pd\n",
    "import numpy as np\n",
    "import matplotlib.pyplot as plt\n",
    "import seaborn as sns\n",
    "import csv\n",
    "\n",
    "%matplotlib inline \n"
   ]
  },
  {
   "cell_type": "code",
   "execution_count": 126,
   "metadata": {},
   "outputs": [],
   "source": [
    "import os"
   ]
  },
  {
   "cell_type": "code",
   "execution_count": 127,
   "metadata": {},
   "outputs": [
    {
     "data": {
      "text/plain": [
       "['bom.movie_gross.csv',\n",
       " 'imdb.name.basics.csv',\n",
       " 'imdb.title.akas.csv',\n",
       " 'imdb.title.basics.csv',\n",
       " 'imdb.title.crew.csv',\n",
       " 'imdb.title.principals.csv',\n",
       " 'imdb.title.ratings.csv',\n",
       " 'rt.movie_info.tsv',\n",
       " 'rt.reviews.tsv',\n",
       " 'tmdb.movies.csv',\n",
       " 'tn.movie_budgets.csv']"
      ]
     },
     "execution_count": 127,
     "metadata": {},
     "output_type": "execute_result"
    }
   ],
   "source": [
    "os.listdir()"
   ]
  },
  {
   "cell_type": "code",
   "execution_count": 128,
   "metadata": {},
   "outputs": [
    {
     "data": {
      "text/plain": [
       "'C:\\\\Users\\\\ADMIN\\\\Documents\\\\Flatiron\\\\phase-1-project\\\\dsc-phase-1-project\\\\zippedData'"
      ]
     },
     "execution_count": 128,
     "metadata": {},
     "output_type": "execute_result"
    }
   ],
   "source": [
    "pwd"
   ]
  },
  {
   "cell_type": "code",
   "execution_count": 129,
   "metadata": {},
   "outputs": [
    {
     "name": "stdout",
     "output_type": "stream",
     "text": [
      "[WinError 2] The system cannot find the file specified: 'zippedData'\n",
      "C:\\Users\\ADMIN\\Documents\\Flatiron\\phase-1-project\\dsc-phase-1-project\\zippedData\n"
     ]
    }
   ],
   "source": [
    "cd zippedData"
   ]
  },
  {
   "cell_type": "code",
   "execution_count": 130,
   "metadata": {},
   "outputs": [
    {
     "data": {
      "text/plain": [
       "['bom.movie_gross.csv',\n",
       " 'imdb.name.basics.csv',\n",
       " 'imdb.title.akas.csv',\n",
       " 'imdb.title.basics.csv',\n",
       " 'imdb.title.crew.csv',\n",
       " 'imdb.title.principals.csv',\n",
       " 'imdb.title.ratings.csv',\n",
       " 'rt.movie_info.tsv',\n",
       " 'rt.reviews.tsv',\n",
       " 'tmdb.movies.csv',\n",
       " 'tn.movie_budgets.csv']"
      ]
     },
     "execution_count": 130,
     "metadata": {},
     "output_type": "execute_result"
    }
   ],
   "source": [
    "os.listdir()"
   ]
  },
  {
   "cell_type": "code",
   "execution_count": 131,
   "metadata": {},
   "outputs": [],
   "source": [
    "import gzip"
   ]
  },
  {
   "cell_type": "code",
   "execution_count": 132,
   "metadata": {},
   "outputs": [],
   "source": [
    "# Unzip function\n",
    "def gunzip(file_path, output_path):\n",
    "    \"\"\"\n",
    "    Assist with unzipping the .gz files\n",
    "    \"\"\"\n",
    "    with gzip.open(file_path, \"rb\") as f_in, open(output_path, \"wb\") as f_out: #open the\n",
    "        file_content = f_in.read() #read content of the .gz file\n",
    "        f_out.write(file_content) #copy content\n",
    "        f_in.close() #close the file\n",
    "        f_out.close() #close the file\n",
    "       \n",
    "        #delete the .gz file\n",
    "        os.remove(file_path)"
   ]
  },
  {
   "cell_type": "code",
   "execution_count": 133,
   "metadata": {},
   "outputs": [],
   "source": [
    "\n",
    "file_folder = os.getcwd()\n",
    "for file in os.listdir():\n",
    "    if file.endswith('.gz'):\n",
    "        dest_file = file_folder + '/' + file\n",
    "        gunzip(dest_file, dest_file.replace('.gz', ''))"
   ]
  },
  {
   "cell_type": "code",
   "execution_count": 134,
   "metadata": {},
   "outputs": [
    {
     "data": {
      "text/plain": [
       "'C:\\\\Users\\\\ADMIN\\\\Documents\\\\Flatiron\\\\phase-1-project\\\\dsc-phase-1-project\\\\zippedData'"
      ]
     },
     "execution_count": 134,
     "metadata": {},
     "output_type": "execute_result"
    }
   ],
   "source": [
    "\n",
    "os.getcwd()"
   ]
  },
  {
   "cell_type": "code",
   "execution_count": 135,
   "metadata": {},
   "outputs": [
    {
     "data": {
      "text/html": [
       "<div>\n",
       "<style scoped>\n",
       "    .dataframe tbody tr th:only-of-type {\n",
       "        vertical-align: middle;\n",
       "    }\n",
       "\n",
       "    .dataframe tbody tr th {\n",
       "        vertical-align: top;\n",
       "    }\n",
       "\n",
       "    .dataframe thead th {\n",
       "        text-align: right;\n",
       "    }\n",
       "</style>\n",
       "<table border=\"1\" class=\"dataframe\">\n",
       "  <thead>\n",
       "    <tr style=\"text-align: right;\">\n",
       "      <th></th>\n",
       "      <th>Unnamed: 0</th>\n",
       "      <th>genre_ids</th>\n",
       "      <th>id</th>\n",
       "      <th>original_language</th>\n",
       "      <th>original_title</th>\n",
       "      <th>popularity</th>\n",
       "      <th>release_date</th>\n",
       "      <th>title</th>\n",
       "      <th>vote_average</th>\n",
       "      <th>vote_count</th>\n",
       "    </tr>\n",
       "  </thead>\n",
       "  <tbody>\n",
       "    <tr>\n",
       "      <th>0</th>\n",
       "      <td>0</td>\n",
       "      <td>[12, 14, 10751]</td>\n",
       "      <td>12444</td>\n",
       "      <td>en</td>\n",
       "      <td>Harry Potter and the Deathly Hallows: Part 1</td>\n",
       "      <td>33.533</td>\n",
       "      <td>2010-11-19</td>\n",
       "      <td>Harry Potter and the Deathly Hallows: Part 1</td>\n",
       "      <td>7.7</td>\n",
       "      <td>10788</td>\n",
       "    </tr>\n",
       "    <tr>\n",
       "      <th>1</th>\n",
       "      <td>1</td>\n",
       "      <td>[14, 12, 16, 10751]</td>\n",
       "      <td>10191</td>\n",
       "      <td>en</td>\n",
       "      <td>How to Train Your Dragon</td>\n",
       "      <td>28.734</td>\n",
       "      <td>2010-03-26</td>\n",
       "      <td>How to Train Your Dragon</td>\n",
       "      <td>7.7</td>\n",
       "      <td>7610</td>\n",
       "    </tr>\n",
       "    <tr>\n",
       "      <th>2</th>\n",
       "      <td>2</td>\n",
       "      <td>[12, 28, 878]</td>\n",
       "      <td>10138</td>\n",
       "      <td>en</td>\n",
       "      <td>Iron Man 2</td>\n",
       "      <td>28.515</td>\n",
       "      <td>2010-05-07</td>\n",
       "      <td>Iron Man 2</td>\n",
       "      <td>6.8</td>\n",
       "      <td>12368</td>\n",
       "    </tr>\n",
       "    <tr>\n",
       "      <th>3</th>\n",
       "      <td>3</td>\n",
       "      <td>[16, 35, 10751]</td>\n",
       "      <td>862</td>\n",
       "      <td>en</td>\n",
       "      <td>Toy Story</td>\n",
       "      <td>28.005</td>\n",
       "      <td>1995-11-22</td>\n",
       "      <td>Toy Story</td>\n",
       "      <td>7.9</td>\n",
       "      <td>10174</td>\n",
       "    </tr>\n",
       "    <tr>\n",
       "      <th>4</th>\n",
       "      <td>4</td>\n",
       "      <td>[28, 878, 12]</td>\n",
       "      <td>27205</td>\n",
       "      <td>en</td>\n",
       "      <td>Inception</td>\n",
       "      <td>27.920</td>\n",
       "      <td>2010-07-16</td>\n",
       "      <td>Inception</td>\n",
       "      <td>8.3</td>\n",
       "      <td>22186</td>\n",
       "    </tr>\n",
       "    <tr>\n",
       "      <th>...</th>\n",
       "      <td>...</td>\n",
       "      <td>...</td>\n",
       "      <td>...</td>\n",
       "      <td>...</td>\n",
       "      <td>...</td>\n",
       "      <td>...</td>\n",
       "      <td>...</td>\n",
       "      <td>...</td>\n",
       "      <td>...</td>\n",
       "      <td>...</td>\n",
       "    </tr>\n",
       "    <tr>\n",
       "      <th>26512</th>\n",
       "      <td>26512</td>\n",
       "      <td>[27, 18]</td>\n",
       "      <td>488143</td>\n",
       "      <td>en</td>\n",
       "      <td>Laboratory Conditions</td>\n",
       "      <td>0.600</td>\n",
       "      <td>2018-10-13</td>\n",
       "      <td>Laboratory Conditions</td>\n",
       "      <td>0.0</td>\n",
       "      <td>1</td>\n",
       "    </tr>\n",
       "    <tr>\n",
       "      <th>26513</th>\n",
       "      <td>26513</td>\n",
       "      <td>[18, 53]</td>\n",
       "      <td>485975</td>\n",
       "      <td>en</td>\n",
       "      <td>_EXHIBIT_84xxx_</td>\n",
       "      <td>0.600</td>\n",
       "      <td>2018-05-01</td>\n",
       "      <td>_EXHIBIT_84xxx_</td>\n",
       "      <td>0.0</td>\n",
       "      <td>1</td>\n",
       "    </tr>\n",
       "    <tr>\n",
       "      <th>26514</th>\n",
       "      <td>26514</td>\n",
       "      <td>[14, 28, 12]</td>\n",
       "      <td>381231</td>\n",
       "      <td>en</td>\n",
       "      <td>The Last One</td>\n",
       "      <td>0.600</td>\n",
       "      <td>2018-10-01</td>\n",
       "      <td>The Last One</td>\n",
       "      <td>0.0</td>\n",
       "      <td>1</td>\n",
       "    </tr>\n",
       "    <tr>\n",
       "      <th>26515</th>\n",
       "      <td>26515</td>\n",
       "      <td>[10751, 12, 28]</td>\n",
       "      <td>366854</td>\n",
       "      <td>en</td>\n",
       "      <td>Trailer Made</td>\n",
       "      <td>0.600</td>\n",
       "      <td>2018-06-22</td>\n",
       "      <td>Trailer Made</td>\n",
       "      <td>0.0</td>\n",
       "      <td>1</td>\n",
       "    </tr>\n",
       "    <tr>\n",
       "      <th>26516</th>\n",
       "      <td>26516</td>\n",
       "      <td>[53, 27]</td>\n",
       "      <td>309885</td>\n",
       "      <td>en</td>\n",
       "      <td>The Church</td>\n",
       "      <td>0.600</td>\n",
       "      <td>2018-10-05</td>\n",
       "      <td>The Church</td>\n",
       "      <td>0.0</td>\n",
       "      <td>1</td>\n",
       "    </tr>\n",
       "  </tbody>\n",
       "</table>\n",
       "<p>26517 rows × 10 columns</p>\n",
       "</div>"
      ],
      "text/plain": [
       "       Unnamed: 0            genre_ids      id original_language  \\\n",
       "0               0      [12, 14, 10751]   12444                en   \n",
       "1               1  [14, 12, 16, 10751]   10191                en   \n",
       "2               2        [12, 28, 878]   10138                en   \n",
       "3               3      [16, 35, 10751]     862                en   \n",
       "4               4        [28, 878, 12]   27205                en   \n",
       "...           ...                  ...     ...               ...   \n",
       "26512       26512             [27, 18]  488143                en   \n",
       "26513       26513             [18, 53]  485975                en   \n",
       "26514       26514         [14, 28, 12]  381231                en   \n",
       "26515       26515      [10751, 12, 28]  366854                en   \n",
       "26516       26516             [53, 27]  309885                en   \n",
       "\n",
       "                                     original_title  popularity release_date  \\\n",
       "0      Harry Potter and the Deathly Hallows: Part 1      33.533   2010-11-19   \n",
       "1                          How to Train Your Dragon      28.734   2010-03-26   \n",
       "2                                        Iron Man 2      28.515   2010-05-07   \n",
       "3                                         Toy Story      28.005   1995-11-22   \n",
       "4                                         Inception      27.920   2010-07-16   \n",
       "...                                             ...         ...          ...   \n",
       "26512                         Laboratory Conditions       0.600   2018-10-13   \n",
       "26513                               _EXHIBIT_84xxx_       0.600   2018-05-01   \n",
       "26514                                  The Last One       0.600   2018-10-01   \n",
       "26515                                  Trailer Made       0.600   2018-06-22   \n",
       "26516                                    The Church       0.600   2018-10-05   \n",
       "\n",
       "                                              title  vote_average  vote_count  \n",
       "0      Harry Potter and the Deathly Hallows: Part 1           7.7       10788  \n",
       "1                          How to Train Your Dragon           7.7        7610  \n",
       "2                                        Iron Man 2           6.8       12368  \n",
       "3                                         Toy Story           7.9       10174  \n",
       "4                                         Inception           8.3       22186  \n",
       "...                                             ...           ...         ...  \n",
       "26512                         Laboratory Conditions           0.0           1  \n",
       "26513                               _EXHIBIT_84xxx_           0.0           1  \n",
       "26514                                  The Last One           0.0           1  \n",
       "26515                                  Trailer Made           0.0           1  \n",
       "26516                                    The Church           0.0           1  \n",
       "\n",
       "[26517 rows x 10 columns]"
      ]
     },
     "execution_count": 135,
     "metadata": {},
     "output_type": "execute_result"
    }
   ],
   "source": [
    "# Connecting and reading the data for TMDB\n",
    "TMDB_data = pd.read_csv(\"tmdb.movies.csv\")\n",
    "TMDB_data"
   ]
  },
  {
   "cell_type": "code",
   "execution_count": 136,
   "metadata": {},
   "outputs": [
    {
     "data": {
      "text/html": [
       "<div>\n",
       "<style scoped>\n",
       "    .dataframe tbody tr th:only-of-type {\n",
       "        vertical-align: middle;\n",
       "    }\n",
       "\n",
       "    .dataframe tbody tr th {\n",
       "        vertical-align: top;\n",
       "    }\n",
       "\n",
       "    .dataframe thead th {\n",
       "        text-align: right;\n",
       "    }\n",
       "</style>\n",
       "<table border=\"1\" class=\"dataframe\">\n",
       "  <thead>\n",
       "    <tr style=\"text-align: right;\">\n",
       "      <th></th>\n",
       "      <th>id</th>\n",
       "      <th>release_date</th>\n",
       "      <th>movie</th>\n",
       "      <th>production_budget</th>\n",
       "      <th>domestic_gross</th>\n",
       "      <th>worldwide_gross</th>\n",
       "    </tr>\n",
       "  </thead>\n",
       "  <tbody>\n",
       "    <tr>\n",
       "      <th>0</th>\n",
       "      <td>1</td>\n",
       "      <td>Dec 18, 2009</td>\n",
       "      <td>Avatar</td>\n",
       "      <td>$425,000,000</td>\n",
       "      <td>$760,507,625</td>\n",
       "      <td>$2,776,345,279</td>\n",
       "    </tr>\n",
       "    <tr>\n",
       "      <th>1</th>\n",
       "      <td>2</td>\n",
       "      <td>May 20, 2011</td>\n",
       "      <td>Pirates of the Caribbean: On Stranger Tides</td>\n",
       "      <td>$410,600,000</td>\n",
       "      <td>$241,063,875</td>\n",
       "      <td>$1,045,663,875</td>\n",
       "    </tr>\n",
       "    <tr>\n",
       "      <th>2</th>\n",
       "      <td>3</td>\n",
       "      <td>Jun 7, 2019</td>\n",
       "      <td>Dark Phoenix</td>\n",
       "      <td>$350,000,000</td>\n",
       "      <td>$42,762,350</td>\n",
       "      <td>$149,762,350</td>\n",
       "    </tr>\n",
       "    <tr>\n",
       "      <th>3</th>\n",
       "      <td>4</td>\n",
       "      <td>May 1, 2015</td>\n",
       "      <td>Avengers: Age of Ultron</td>\n",
       "      <td>$330,600,000</td>\n",
       "      <td>$459,005,868</td>\n",
       "      <td>$1,403,013,963</td>\n",
       "    </tr>\n",
       "    <tr>\n",
       "      <th>4</th>\n",
       "      <td>5</td>\n",
       "      <td>Dec 15, 2017</td>\n",
       "      <td>Star Wars Ep. VIII: The Last Jedi</td>\n",
       "      <td>$317,000,000</td>\n",
       "      <td>$620,181,382</td>\n",
       "      <td>$1,316,721,747</td>\n",
       "    </tr>\n",
       "    <tr>\n",
       "      <th>...</th>\n",
       "      <td>...</td>\n",
       "      <td>...</td>\n",
       "      <td>...</td>\n",
       "      <td>...</td>\n",
       "      <td>...</td>\n",
       "      <td>...</td>\n",
       "    </tr>\n",
       "    <tr>\n",
       "      <th>5777</th>\n",
       "      <td>78</td>\n",
       "      <td>Dec 31, 2018</td>\n",
       "      <td>Red 11</td>\n",
       "      <td>$7,000</td>\n",
       "      <td>$0</td>\n",
       "      <td>$0</td>\n",
       "    </tr>\n",
       "    <tr>\n",
       "      <th>5778</th>\n",
       "      <td>79</td>\n",
       "      <td>Apr 2, 1999</td>\n",
       "      <td>Following</td>\n",
       "      <td>$6,000</td>\n",
       "      <td>$48,482</td>\n",
       "      <td>$240,495</td>\n",
       "    </tr>\n",
       "    <tr>\n",
       "      <th>5779</th>\n",
       "      <td>80</td>\n",
       "      <td>Jul 13, 2005</td>\n",
       "      <td>Return to the Land of Wonders</td>\n",
       "      <td>$5,000</td>\n",
       "      <td>$1,338</td>\n",
       "      <td>$1,338</td>\n",
       "    </tr>\n",
       "    <tr>\n",
       "      <th>5780</th>\n",
       "      <td>81</td>\n",
       "      <td>Sep 29, 2015</td>\n",
       "      <td>A Plague So Pleasant</td>\n",
       "      <td>$1,400</td>\n",
       "      <td>$0</td>\n",
       "      <td>$0</td>\n",
       "    </tr>\n",
       "    <tr>\n",
       "      <th>5781</th>\n",
       "      <td>82</td>\n",
       "      <td>Aug 5, 2005</td>\n",
       "      <td>My Date With Drew</td>\n",
       "      <td>$1,100</td>\n",
       "      <td>$181,041</td>\n",
       "      <td>$181,041</td>\n",
       "    </tr>\n",
       "  </tbody>\n",
       "</table>\n",
       "<p>5782 rows × 6 columns</p>\n",
       "</div>"
      ],
      "text/plain": [
       "      id  release_date                                        movie  \\\n",
       "0      1  Dec 18, 2009                                       Avatar   \n",
       "1      2  May 20, 2011  Pirates of the Caribbean: On Stranger Tides   \n",
       "2      3   Jun 7, 2019                                 Dark Phoenix   \n",
       "3      4   May 1, 2015                      Avengers: Age of Ultron   \n",
       "4      5  Dec 15, 2017            Star Wars Ep. VIII: The Last Jedi   \n",
       "...   ..           ...                                          ...   \n",
       "5777  78  Dec 31, 2018                                       Red 11   \n",
       "5778  79   Apr 2, 1999                                    Following   \n",
       "5779  80  Jul 13, 2005                Return to the Land of Wonders   \n",
       "5780  81  Sep 29, 2015                         A Plague So Pleasant   \n",
       "5781  82   Aug 5, 2005                            My Date With Drew   \n",
       "\n",
       "     production_budget domestic_gross worldwide_gross  \n",
       "0         $425,000,000   $760,507,625  $2,776,345,279  \n",
       "1         $410,600,000   $241,063,875  $1,045,663,875  \n",
       "2         $350,000,000    $42,762,350    $149,762,350  \n",
       "3         $330,600,000   $459,005,868  $1,403,013,963  \n",
       "4         $317,000,000   $620,181,382  $1,316,721,747  \n",
       "...                ...            ...             ...  \n",
       "5777            $7,000             $0              $0  \n",
       "5778            $6,000        $48,482        $240,495  \n",
       "5779            $5,000         $1,338          $1,338  \n",
       "5780            $1,400             $0              $0  \n",
       "5781            $1,100       $181,041        $181,041  \n",
       "\n",
       "[5782 rows x 6 columns]"
      ]
     },
     "execution_count": 136,
     "metadata": {},
     "output_type": "execute_result"
    }
   ],
   "source": [
    "# Connecting and reading data from The Numbers\n",
    "TheNumbers_data = pd.read_csv(\"tn.movie_budgets.csv\")\n",
    "TheNumbers_data"
   ]
  },
  {
   "cell_type": "markdown",
   "metadata": {},
   "source": [
    "The data that has been retrieved may have inconsistencies and errors such as missing values, outdated values, outliers and irrelevant data for our analysis. To make our data more useful it is necessary to clean and transform the data so that only the necessary and accurate data may remain. Data cleaning involves checking for missing values, duplicated entries, invalid and conflicting entries. There are a number of ways to use the data provided as from it, it is possible to get descriptive statistics and the general information of the data that can help with providing insights on the course of action."
   ]
  },
  {
   "cell_type": "code",
   "execution_count": 137,
   "metadata": {},
   "outputs": [
    {
     "name": "stdout",
     "output_type": "stream",
     "text": [
      "<class 'pandas.core.frame.DataFrame'>\n",
      "RangeIndex: 26517 entries, 0 to 26516\n",
      "Data columns (total 10 columns):\n",
      " #   Column             Non-Null Count  Dtype  \n",
      "---  ------             --------------  -----  \n",
      " 0   Unnamed: 0         26517 non-null  int64  \n",
      " 1   genre_ids          26517 non-null  object \n",
      " 2   id                 26517 non-null  int64  \n",
      " 3   original_language  26517 non-null  object \n",
      " 4   original_title     26517 non-null  object \n",
      " 5   popularity         26517 non-null  float64\n",
      " 6   release_date       26517 non-null  object \n",
      " 7   title              26517 non-null  object \n",
      " 8   vote_average       26517 non-null  float64\n",
      " 9   vote_count         26517 non-null  int64  \n",
      "dtypes: float64(2), int64(3), object(5)\n",
      "memory usage: 2.0+ MB\n"
     ]
    }
   ],
   "source": [
    "# Checking whether there is any missing data in our data frame from TheMOvieDB \n",
    "TMDB_data.info()"
   ]
  },
  {
   "cell_type": "code",
   "execution_count": 138,
   "metadata": {},
   "outputs": [
    {
     "name": "stdout",
     "output_type": "stream",
     "text": [
      "<class 'pandas.core.frame.DataFrame'>\n",
      "RangeIndex: 5782 entries, 0 to 5781\n",
      "Data columns (total 6 columns):\n",
      " #   Column             Non-Null Count  Dtype \n",
      "---  ------             --------------  ----- \n",
      " 0   id                 5782 non-null   int64 \n",
      " 1   release_date       5782 non-null   object\n",
      " 2   movie              5782 non-null   object\n",
      " 3   production_budget  5782 non-null   object\n",
      " 4   domestic_gross     5782 non-null   object\n",
      " 5   worldwide_gross    5782 non-null   object\n",
      "dtypes: int64(1), object(5)\n",
      "memory usage: 271.2+ KB\n"
     ]
    }
   ],
   "source": [
    "# Checking for missing data in the data from The Numbers \n",
    "TheNumbers_data.info()"
   ]
  },
  {
   "cell_type": "markdown",
   "metadata": {},
   "source": [
    "The above method is used to get the general information of our data frames. For example, the RangeIndex tells how many entries were available, the columns tell what variables are represented/examined, the non-null count tells how many non-null/valid values exist in the data while the 'Dtype' section tells us what type of data we're dealing with.\n",
    "\n",
    "From the information, it is seen that both sets have complete data with no missing values but that does not mean all the data can be used. Other forms of cleaning and transformation may be needed. Some case examples are the columns that are useless to the problem statements. They can be done away with in general. We can drop the column and check the shape to confirm the new data frame that should have less columns after."
   ]
  },
  {
   "cell_type": "code",
   "execution_count": 139,
   "metadata": {},
   "outputs": [
    {
     "name": "stdout",
     "output_type": "stream",
     "text": [
      "Shape of IMDB_data:  (26517, 7)\n",
      "Columns now in IMDB_data:  ['genre_ids', 'id', 'popularity', 'release_date', 'title', 'vote_average', 'vote_count']\n"
     ]
    }
   ],
   "source": [
    "# Dropping our unnecessary columns in TMDB and confirming through its shape\n",
    "TMDB_data.drop(['Unnamed: 0','original_language', 'original_title'],axis=1, inplace=True)\n",
    "print(\"Shape of IMDB_data: \", TMDB_data.shape)\n",
    "print(\"Columns now in IMDB_data: \", list(TMDB_data.columns))"
   ]
  },
  {
   "cell_type": "code",
   "execution_count": 140,
   "metadata": {},
   "outputs": [
    {
     "data": {
      "text/plain": [
       "{False, True}"
      ]
     },
     "execution_count": 140,
     "metadata": {},
     "output_type": "execute_result"
    }
   ],
   "source": [
    "\"\"\"\n",
    "In order to check for duplicated though-out the whole data, we are going to use a method that can draw out a boolean.\n",
    "This is a True or False response where any mention of True for unique values indicates a duplicate is present.\n",
    "\"\"\"\n",
    "\n",
    "TMDB_data.duplicated()\n",
    "set(TMDB_data.duplicated())"
   ]
  },
  {
   "cell_type": "code",
   "execution_count": 141,
   "metadata": {},
   "outputs": [
    {
     "data": {
      "text/plain": [
       "(25497, 7)"
      ]
     },
     "execution_count": 141,
     "metadata": {},
     "output_type": "execute_result"
    }
   ],
   "source": [
    "# Dropping the duplicates from the data frame\n",
    "TMDB_data.drop_duplicates(inplace=True)\n",
    "TMDB_data.shape"
   ]
  },
  {
   "cell_type": "code",
   "execution_count": null,
   "metadata": {},
   "outputs": [],
   "source": [
    "# Dropping rows in IMDB with less than 2000 vote counts or less that 6.0 average rating\n",
    "for x in TMDB_data.index:\n",
    "    if TMDB_data.loc[x, \"vote_count\"] < 2000 or TMDB_data.loc[x, \"vote_average\"] < 6.0:\n",
    "        TMDB_data.drop(x, inplace=True)\n",
    "        \n",
    "IMDB_data"
   ]
  },
  {
   "cell_type": "code",
   "execution_count": null,
   "metadata": {},
   "outputs": [],
   "source": [
    "# Getting the top 100 vote averages\n",
    "TMDB_TopAvgVoted = TMDB_data.sort_values(by='vote_average', ascending=False).head(100)\n",
    "TMDB_TopAvgVoted"
   ]
  },
  {
   "cell_type": "code",
   "execution_count": null,
   "metadata": {},
   "outputs": [],
   "source": [
    "# Checking for duplicates in The Numbers data\n",
    "TheNumbers_data.duplicated()\n",
    "set(TheNumbers_data.duplicated())"
   ]
  },
  {
   "cell_type": "code",
   "execution_count": null,
   "metadata": {},
   "outputs": [],
   "source": [
    "# Converting for the Production Budget column\n",
    "TheNumbers_data['production_budget'] = TheNumbers_data['production_budget'].astype(str)\n",
    "TheNumbers_data['production_budget'] = TheNumbers_data['production_budget'].str.replace('[$,]', '', regex=True)\n",
    "TheNumbers_data['production_budget'] = TheNumbers_data['production_budget'].astype(int)"
   ]
  },
  {
   "cell_type": "code",
   "execution_count": null,
   "metadata": {},
   "outputs": [],
   "source": [
    "# Converting the Domestic gross column\n",
    "TheNumbers_data['domestic_gross'] = TheNumbers_data['domestic_gross'].astype(str)\n",
    "TheNumbers_data['domestic_gross'] = TheNumbers_data['domestic_gross'].str.replace('[$,]', '', regex=True)\n",
    "TheNumbers_data['domestic_gross'] = TheNumbers_data['domestic_gross'].astype(int)"
   ]
  },
  {
   "cell_type": "code",
   "execution_count": null,
   "metadata": {},
   "outputs": [],
   "source": [
    "# Converting for the worlwide_gross column\n",
    "TheNumbers_data[\"worldwide_gross\"] = TheNumbers_data[\"worldwide_gross\"].astype(str)\n",
    "TheNumbers_data[\"worldwide_gross\"] = pd.to_numeric(TheNumbers_data[\"worldwide_gross\"].str.replace('[$,]','', regex=True), errors='coerce')\n",
    "TheNumbers_data[\"worldwide_gross\"] = TheNumbers_data[\"worldwide_gross\"].astype(float)"
   ]
  },
  {
   "cell_type": "code",
   "execution_count": null,
   "metadata": {},
   "outputs": [],
   "source": [
    "# Printing out the data types\n",
    "print(TheNumbers_data.dtypes)\n",
    "\n",
    "# Calling the data frame\n",
    "TheNumbers_data"
   ]
  },
  {
   "cell_type": "markdown",
   "metadata": {},
   "source": [
    "Data Modeling\n",
    "This section is where the cleaned data can be transformed and be used to derive insights from. The data will be analyzed using a number of combinations of the available information using visualizations. This should be able to provide descriptive insights that can help us to be able to answer project questions.An example of a useful transformation is above where rows have been removed for movies that have vote counts of less than 2000. This is so that we can remain with data that has a good viewership as shown by vote counts. This provides a good demographic for analysis. Going ahead and limiting the movies to those with ratings of 6.0 and above is so that we can weed put non-performing movies and remain with those that could help give an idea of those that are doing well since those would be more useful to study. This would help advice on what can be done to get to the same level.\n",
    "\n",
    "Given the data from The Numbers, the same approach applies as we can weed out the non-performing movies using the gross margins as well as the budget data. This will help us see which movies have higher revenue output and well as low budget costs as well as the profitability. Other iterations can be done to provide insights on trends and even popularity with the data available. Using visualization methods we can be able to observe these factors in a non-technical manner and prescribe possible ways forward."
   ]
  },
  {
   "cell_type": "code",
   "execution_count": null,
   "metadata": {},
   "outputs": [],
   "source": [
    "# Genre vs vote average:\n",
    "fig, ax = plt.subplots(figsize=(8,6))\n",
    "sns.barplot(x=TMDB_TopAvgVoted['genre_ids'].head(20), y=TMDB_TopAvgVoted['vote_average'].head(20))\n",
    "plt.title('Top Voted Genres')\n",
    "plt.xlabel('Genres')\n",
    "plt.ylabel('Vote Averages')\n",
    "plt.xticks(rotation =90)\n",
    "plt.show()"
   ]
  },
  {
   "cell_type": "code",
   "execution_count": null,
   "metadata": {},
   "outputs": [],
   "source": [
    "# Release date vs popularity:\n",
    "fig, ax = plt.subplots(figsize=(8,6))\n",
    "plt.plot(TMDB_TopAvgVoted['release_date'].head(20), TMDB_TopAvgVoted['popularity'].head(20))\n",
    "plt.title('Preference Changes Over Time')\n",
    "plt.xlabel('Release Date')\n",
    "plt.ylabel('Popularity')\n",
    "plt.xticks(rotation=90)\n",
    "plt.show()"
   ]
  },
  {
   "cell_type": "markdown",
   "metadata": {},
   "source": [
    "From the list of top 20 voted movies, we observe that there have been peaks of popularity in recent years for these top voted movies which indicates that the movie studio production methods as well as audience availability has increased. This is a good sign as it indicates that the business venture is moving on the right direction.\n",
    "\n",
    "TMDB and The Numbers can provide insights into audience demographics, ratings, and reviews. By analyzing these factors, the head of the movie studio can identify trends and preferences in audience behavior and tailor their content accordingly.\n",
    "\n",
    "Overall, using data from TMDB and The Numbers can help the head of Microsoft's new movie studio make informed decisions about which types of movies to create and how to market them for maximum success."
   ]
  },
  {
   "cell_type": "code",
   "execution_count": null,
   "metadata": {},
   "outputs": [],
   "source": [
    "# Genre vs popularity:\n",
    "fig, ax = plt.subplots(figsize=(8,6))\n",
    "plt.bar(TMDB_TopAvgVoted['genre_ids'].head(20), TMDB_TopAvgVoted['popularity'].sort_values(ascending=False).head(20))\n",
    "plt.title('Popular Genres')\n",
    "plt.xlabel('Genres')\n",
    "plt.ylabel('Popularity')\n",
    "plt.xticks(rotation=90)\n",
    "plt.show()"
   ]
  },
  {
   "cell_type": "code",
   "execution_count": null,
   "metadata": {},
   "outputs": [],
   "source": [
    "# Plotting for Top 20 Average Voted\n",
    "fig, axes = plt.subplots(figsize=(8,6))\n",
    "\n",
    "sns.barplot(x=TMDB_TopAvgVoted['title'].head(20), y=TMDB_TopAvgVoted['vote_average'].head(20))\n",
    "plt.title('Average Voted')\n",
    "plt.xlabel('Movie')\n",
    "plt.ylabel('Vote average')\n",
    "plt.xticks(rotation = 90)\n",
    "\n",
    "plt.show()"
   ]
  },
  {
   "cell_type": "code",
   "execution_count": null,
   "metadata": {},
   "outputs": [],
   "source": [
    "# Sorting data frame according to popularity\n",
    "TMDB_TopPopular = TMDB_data.sort_values(by='popularity', ascending=False).head(100)\n",
    "TMDB_TopPopular"
   ]
  },
  {
   "cell_type": "code",
   "execution_count": null,
   "metadata": {},
   "outputs": [],
   "source": [
    "# Title vs Popularity\n",
    "fig, axes = plt.subplots(figsize=(8,6))\n",
    "\n",
    "sns.barplot(x=TMDB_TopPopular['title'].head(20), y=TMDB_TopPopular['popularity'].head(20))\n",
    "plt.title('Popularity')\n",
    "plt.ylabel('Popularity Charts')\n",
    "plt.xlabel('Title')\n",
    "plt.xticks(rotation = 90)\n",
    "\n",
    "plt.show()"
   ]
  },
  {
   "cell_type": "code",
   "execution_count": null,
   "metadata": {},
   "outputs": [],
   "source": [
    "# Filter for movies with reasonable budgets with high returns\n",
    "TheNumbers_profitable = TheNumbers_data.loc[TheNumbers_data['production_budget'] > 100000]\n",
    "TheNumbers_profitable      "
   ]
  },
  {
   "cell_type": "code",
   "execution_count": null,
   "metadata": {},
   "outputs": [],
   "source": [
    "# Showing movies with cheapest budget costs\n",
    "fig, axes = plt.subplots(figsize=(8,6))\n",
    "\n",
    "sns.barplot(x=TheNumbers_profitable['movie'].tail(20), y=TheNumbers_profitable['production_budget'].tail(20))\n",
    "plt.title('Affordable Budgets')\n",
    "plt.xlabel('Movie Title')\n",
    "plt.ylabel('Budget Cost')\n",
    "plt.xticks(rotation = 90)\n",
    "\n",
    "plt.show()"
   ]
  },
  {
   "cell_type": "code",
   "execution_count": null,
   "metadata": {},
   "outputs": [],
   "source": [
    "TheNumbers_profitable = TheNumbers_profitable.loc[TheNumbers_profitable[\"worldwide_gross\"] > 100000000]\n",
    "TheNumbers_profitable "
   ]
  },
  {
   "cell_type": "code",
   "execution_count": null,
   "metadata": {},
   "outputs": [],
   "source": [
    "TheNum_Budgetable = TheNumbers_profitable.sort_values(by='production_budget').head(100)\n",
    "TheNum_Budgetable"
   ]
  },
  {
   "cell_type": "code",
   "execution_count": null,
   "metadata": {},
   "outputs": [],
   "source": [
    "# Production Budget vs Domestic gross\n",
    "fig, axes = plt.subplots(figsize=(8,6))\n",
    "\n",
    "sns.barplot(x=TheNumbers_profitable['domestic_gross'].head(20), y=TheNumbers_profitable['production_budget'].head(20))\n",
    "plt.title('Value Returns')\n",
    "plt.xlabel('Budget Costs')\n",
    "plt.ylabel('Domestic Gross')\n",
    "plt.xticks(rotation = 45)\n",
    "\n",
    "plt.show()"
   ]
  },
  {
   "cell_type": "code",
   "execution_count": null,
   "metadata": {},
   "outputs": [],
   "source": [
    "# Production Budget vs Worldwide Gross\n",
    "fig, axes = plt.subplots(figsize=(8,6))\n",
    "\n",
    "sns.barplot(x=TheNumbers_profitable['production_budget'].head(20), y=TheNumbers_profitable['worldwide_gross'].head(20))\n",
    "plt.title('Worldwide Value Returns')\n",
    "plt.xlabel('Budget Costs')\n",
    "plt.ylabel('Worldwide Gross')\n",
    "plt.xticks(rotation = 45)\n",
    "\n",
    "plt.show()"
   ]
  },
  {
   "cell_type": "code",
   "execution_count": null,
   "metadata": {},
   "outputs": [],
   "source": [
    "# Production Budget vs Domestic Gross\n",
    "fig, axes = plt.subplots(figsize=(8,6))\n",
    "\n",
    "sns.barplot(x=TheNum_Budgetable['production_budget'].head(20), y=TheNum_Budgetable['domestic_gross'].head(20))\n",
    "plt.title('Domestic Gross against Production Costs')\n",
    "plt.xlabel('Budget Costs')\n",
    "plt.ylabel('Domestic Gross')\n",
    "plt.xticks(rotation = 45)\n",
    "\n",
    "plt.show()"
   ]
  },
  {
   "cell_type": "code",
   "execution_count": null,
   "metadata": {},
   "outputs": [],
   "source": [
    "# Production Budget vs Worldwide Gross\n",
    "fig, axes = plt.subplots(figsize=(8,6))\n",
    "\n",
    "sns.barplot(x=TheNumbers_profitable['production_budget'].head(20), y=TheNumbers_profitable['worldwide_gross'].head(20))\n",
    "plt.title('Worldwide Gross against Production Costs')\n",
    "plt.xlabel('Budget Costs')\n",
    "plt.ylabel('Wordlwide Gross')\n",
    "plt.xticks(rotation = 45)\n",
    "\n",
    "plt.show()"
   ]
  },
  {
   "cell_type": "code",
   "execution_count": null,
   "metadata": {},
   "outputs": [],
   "source": [
    "# Movie vs Production Budget\n",
    "fig, axes = plt.subplots(figsize=(8,6))\n",
    "\n",
    "sns.barplot(x=TheNum_Budgetable['movie'].head(10), y=TheNum_Budgetable['production_budget'].head(10))\n",
    "plt.title('Budget vs Movie')\n",
    "plt.ylabel('Budget')\n",
    "plt.xlabel('Movie')\n",
    "plt.xticks(rotation = 90)\n",
    "\n",
    "plt.show()"
   ]
  },
  {
   "cell_type": "code",
   "execution_count": null,
   "metadata": {},
   "outputs": [],
   "source": [
    "TheNum_TopGross = TheNumbers_profitable.sort_values(by='worldwide_gross', ascending=False).head(100)\n",
    "TheNum_TopGross"
   ]
  },
  {
   "cell_type": "code",
   "execution_count": null,
   "metadata": {},
   "outputs": [],
   "source": [
    "# Movie vs Worldwide Gross\n",
    "fig, axes = plt.subplots(figsize=(8,6))\n",
    "\n",
    "sns.barplot(x =TheNum_TopGross['movie'].head(10), y =TheNum_TopGross['worldwide_gross'].head(10))\n",
    "plt.title('Top Gross')\n",
    "plt.xlabel('Movie')\n",
    "plt.ylabel('Gross Levels')\n",
    "plt.xticks(rotation = 90)\n",
    "\n",
    "plt.show()"
   ]
  },
  {
   "cell_type": "code",
   "execution_count": null,
   "metadata": {},
   "outputs": [],
   "source": [
    "# Getting descriptive statistics for tmdb_df data frame\n",
    "TMDB_data[[\"popularity\", \"vote_average\", \"vote_count\"]].describe()"
   ]
  },
  {
   "cell_type": "code",
   "execution_count": null,
   "metadata": {},
   "outputs": [],
   "source": [
    "TheNumbers_profitable[[\"production_budget\", \"domestic_gross\", \"worldwide_gross\"]].describe()"
   ]
  },
  {
   "cell_type": "markdown",
   "metadata": {},
   "source": [
    "# Evaluation\n",
    "This section goes through the data results and visualizations to see how well the business problem can be tackled. From the visualizations above, we can derive insights on some matters. In the bar graphs of Top Voted Genres and average voted, we are able to see that the similar ranges suggest success in the industry depends on multiple factors beyond just movie genres as there may not be a specific genre or storyline that consistently leads to success. Key success factors could be story, production quality, marketing,and even audience reception. Microsoft Studio should not rely solely on particular movies and associated genres, and need to focus on overall film quality and appeal. Instead, it may be more important to focus on creating a high-quality, engaging film regardless of the genre.\n",
    "\n",
    "The irregular but peaking line chart in the bar chart of Preference Changes Over Time shows that recent releases tend to be more popular. This suggests that audiences may be more interested in newer movies thus focusing on latest trends and techniques to maximize popularity should work. The reason for this may be due to increased marketing efforts and a greater focus on creating visually stunning movies that appeal to modern audiences. Therefore, it may be wise to prioritize the creation of visually appealing movies with engaging storylines to maximize their chances of success.\n",
    "\n",
    "Specific genres and movies having high popularity indicates that certain types of content resonate more with audiences. Identifying the popular genres and themes can help in developing films with market potential. Emulating the successful films can also be a strategy.The fact that they have higher popularity and gross returns than others suggests that it may be beneficial to focus on producing movies within those genres. However, it is important to note that this may change over time, so it is important to stay up to date on current trends and audience preferences.\n",
    "\n",
    "The budget vs gross returns data shows that high cost does not guarantee high returns and vice versa. This means that an expensive, large-scale production may not be the only path to success. It is important to focus on creating a high-quality film that is engaging and resonates with audiences, regardless of budget or genre. A compelling story and strong marketing may be able to achieve good results even with a lower budget. Risks should be managed and returns should be considered when making investment decisions.\n",
    "\n",
    "Generally, in answering our problem questions; success depends on multiple factors like story, production, and marketing; genre alone is not sufficient. Latest trends and techniques can boost popularity as shown by peak popularity of recent releases in the visualization. Certain genres/themes and emulating successful films are potential strategies due to specific high-popularity content. The budget is not the only driver of returns, as good story and marketing can be effective with lower cost as opposed to high investments with shallow content."
   ]
  },
  {
   "cell_type": "code",
   "execution_count": null,
   "metadata": {},
   "outputs": [],
   "source": [
    "# Your code here - remember to use markdown cells for comments as well!"
   ]
  }
 ],
 "metadata": {
  "kernelspec": {
   "display_name": "Python 3 (ipykernel)",
   "language": "python",
   "name": "python3"
  },
  "language_info": {
   "codemirror_mode": {
    "name": "ipython",
    "version": 3
   },
   "file_extension": ".py",
   "mimetype": "text/x-python",
   "name": "python",
   "nbconvert_exporter": "python",
   "pygments_lexer": "ipython3",
   "version": "3.11.4"
  }
 },
 "nbformat": 4,
 "nbformat_minor": 2
}
